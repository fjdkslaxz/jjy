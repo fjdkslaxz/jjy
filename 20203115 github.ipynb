{
 "cells": [
  {
   "cell_type": "markdown",
   "id": "c8d79b9f-aeb7-4ee7-b39e-a120ca4a6c46",
   "metadata": {},
   "source": [
    "### cv2 라이브러리를 이용해서 이미지의 테두리만 추출하는 코드 작성\n",
    "cv2.Sobel(입력 이미지,출력 이미지 정밀도 ,x 방향 미분차수,y 방향 미분차수, 커널크기)\n"
   ]
  },
  {
   "cell_type": "code",
   "execution_count": null,
   "id": "4f5047ae-5e4f-427c-9d58-7cb7d34e047c",
   "metadata": {},
   "outputs": [],
   "source": [
    "import matplotlib.pyplot as plt\n",
    "import cv2\n",
    "from PIL import Image\n",
    "import numpy as np"
   ]
  },
  {
   "cell_type": "markdown",
   "id": "4e0fa376-e401-4a5c-91c9-2fdeeda1c653",
   "metadata": {},
   "source": [
    "img_test=cv2.imread('C:/test.jpg',1)\n",
    "sobel = cv2.Sobel(img_test, cv2.CV_8U, 1, 0, 3)\n",
    "cv2.imshow('sobel',sobel)\n",
    "cv2.waitKey(0)"
   ]
  }
 ],
 "metadata": {
  "kernelspec": {
   "display_name": "Python 3 (ipykernel)",
   "language": "python",
   "name": "python3"
  },
  "language_info": {
   "codemirror_mode": {
    "name": "ipython",
    "version": 3
   },
   "file_extension": ".py",
   "mimetype": "text/x-python",
   "name": "python",
   "nbconvert_exporter": "python",
   "pygments_lexer": "ipython3",
   "version": "3.12.0"
  }
 },
 "nbformat": 4,
 "nbformat_minor": 5
}
